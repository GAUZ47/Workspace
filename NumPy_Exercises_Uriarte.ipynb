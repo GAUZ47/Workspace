{
  "nbformat": 4,
  "nbformat_minor": 0,
  "metadata": {
    "colab": {
      "provenance": [],
      "include_colab_link": true
    },
    "kernelspec": {
      "name": "python3",
      "display_name": "Python 3"
    },
    "language_info": {
      "name": "python"
    }
  },
  "cells": [
    {
      "cell_type": "markdown",
      "metadata": {
        "id": "view-in-github",
        "colab_type": "text"
      },
      "source": [
        "<a href=\"https://colab.research.google.com/github/GAUZ47/Workspace/blob/main/NumPy_Exercises_Uriarte.ipynb\" target=\"_parent\"><img src=\"https://colab.research.google.com/assets/colab-badge.svg\" alt=\"Open In Colab\"/></a>"
      ]
    },
    {
      "cell_type": "markdown",
      "source": [
        "#NumPy Exercises for Data Analysis"
      ],
      "metadata": {
        "id": "EFfVfNZwBA7S"
      }
    },
    {
      "cell_type": "code",
      "source": [
        "# 1. Import numpy as np and see the version\n",
        "\n",
        "import numpy as np\n",
        "print(\"Versión de NumPy:\", np.__version__)\n"
      ],
      "metadata": {
        "colab": {
          "base_uri": "https://localhost:8080/"
        },
        "id": "9H-VMi_DBDVT",
        "outputId": "c38cac0e-2435-474e-915b-dfad440b9212"
      },
      "execution_count": null,
      "outputs": [
        {
          "output_type": "stream",
          "name": "stdout",
          "text": [
            "Versión de NumPy: 1.22.4\n"
          ]
        }
      ]
    },
    {
      "cell_type": "code",
      "source": [
        "# 2. Create a 1D array of numbers from 0 to 9\n",
        "\n",
        "arr_1d = np.array([0, 1, 2, 3, 4, 5, 6, 7, 8, 9])\n",
        "print(\"Arreglo unidimensional:\", arr_1d)\n"
      ],
      "metadata": {
        "colab": {
          "base_uri": "https://localhost:8080/"
        },
        "id": "ry3pLeVBBjmn",
        "outputId": "6019a885-37cd-453f-e058-5d22f04b078f"
      },
      "execution_count": null,
      "outputs": [
        {
          "output_type": "stream",
          "name": "stdout",
          "text": [
            "Arreglo unidimensional: [0 1 2 3 4 5 6 7 8 9]\n"
          ]
        }
      ]
    },
    {
      "cell_type": "code",
      "source": [
        "# 3. Create a 3×3 numpy array of all True’s\n",
        "\n",
        "arr_3x3 = np.full((3, 3), True, dtype=bool)\n",
        "print(\"Arreglo de 3x3 con True's:\")\n",
        "print(arr_3x3)\n"
      ],
      "metadata": {
        "colab": {
          "base_uri": "https://localhost:8080/"
        },
        "id": "mEaF_P7jCQif",
        "outputId": "548dc644-88ec-497a-fa57-367d548ba81f"
      },
      "execution_count": null,
      "outputs": [
        {
          "output_type": "stream",
          "name": "stdout",
          "text": [
            "Arreglo de 3x3 con True's:\n",
            "[[ True  True  True]\n",
            " [ True  True  True]\n",
            " [ True  True  True]]\n"
          ]
        }
      ]
    },
    {
      "cell_type": "code",
      "source": [
        "#4. Extract all odd numbers from arr\n",
        "\n",
        "odd_numbers = arr_1d[arr_1d % 2 != 0]\n",
        "print(\"Números impares:\", odd_numbers)\n"
      ],
      "metadata": {
        "colab": {
          "base_uri": "https://localhost:8080/"
        },
        "id": "-lPCTFgRDVPa",
        "outputId": "55dfd9d2-fdb9-4ded-be01-8a8f4067a4da"
      },
      "execution_count": null,
      "outputs": [
        {
          "output_type": "stream",
          "name": "stdout",
          "text": [
            "Números impares: [1 3 5 7 9]\n"
          ]
        }
      ]
    },
    {
      "cell_type": "code",
      "source": [
        "#5. Replace all odd numbers in arr with -1\n",
        "\n",
        "arr_1d[arr_1d % 2 != 0] = -1\n",
        "print(\"Arreglo con números impares reemplazados:\", arr_1d)\n"
      ],
      "metadata": {
        "colab": {
          "base_uri": "https://localhost:8080/"
        },
        "id": "FhSzeGHFDznV",
        "outputId": "6a0b5df1-1e32-4998-a203-d13af50e9cdb"
      },
      "execution_count": null,
      "outputs": [
        {
          "output_type": "stream",
          "name": "stdout",
          "text": [
            "Arreglo con números impares reemplazados: [ 0 -1  2 -1  4 -1  6 -1  8 -1]\n"
          ]
        }
      ]
    },
    {
      "cell_type": "code",
      "source": [
        "#6. Convert a 1D array to a 2D array with 2 rows\n",
        "\n",
        "arr_2d = arr_1d.reshape(2, -1)\n",
        "print(\"Arreglo bidimensional con 2 filas:\")\n",
        "print(arr_2d)"
      ],
      "metadata": {
        "colab": {
          "base_uri": "https://localhost:8080/"
        },
        "id": "qccsIc7kEbdC",
        "outputId": "cecda84b-6b6c-45d5-c3e9-362462dc38ba"
      },
      "execution_count": null,
      "outputs": [
        {
          "output_type": "stream",
          "name": "stdout",
          "text": [
            "Arreglo bidimensional con 2 filas:\n",
            "[[ 0 -1  2 -1  4]\n",
            " [-1  6 -1  8 -1]]\n"
          ]
        }
      ]
    },
    {
      "cell_type": "code",
      "source": [
        "#7. Stack arrays a and b vertically\n",
        "\n",
        "a = np.array([1, 2, 3])\n",
        "b = np.array([4, 5, 6])\n",
        "stacked_vertical = np.vstack((a, b))\n",
        "print(\"Apilado vertical:\")\n",
        "print(stacked_vertical)\n"
      ],
      "metadata": {
        "colab": {
          "base_uri": "https://localhost:8080/"
        },
        "id": "jrWPBh_PFfKs",
        "outputId": "861acad6-2100-49a4-e253-82e61383ecc8"
      },
      "execution_count": null,
      "outputs": [
        {
          "output_type": "stream",
          "name": "stdout",
          "text": [
            "Apilado vertical:\n",
            "[[1 2 3]\n",
            " [4 5 6]]\n"
          ]
        }
      ]
    },
    {
      "cell_type": "code",
      "source": [
        "#8. Stack the arrays a and b horizontally.\n",
        "\n",
        "a = np.array([1, 2, 3])\n",
        "b = np.array([4, 5, 6])\n",
        "stacked_horizontal = np.hstack((a, b))\n",
        "print(\"Apilado horizontal:\", stacked_horizontal)\n"
      ],
      "metadata": {
        "colab": {
          "base_uri": "https://localhost:8080/"
        },
        "id": "D4WJ1SDWGdgb",
        "outputId": "ce72112f-13c4-4fd6-d65e-ed3ef506bac8"
      },
      "execution_count": null,
      "outputs": [
        {
          "output_type": "stream",
          "name": "stdout",
          "text": [
            "Apilado horizontal: [1 2 3 4 5 6]\n"
          ]
        }
      ]
    },
    {
      "cell_type": "code",
      "source": [
        "#9. Get all items between 5 and 10 from a.\n",
        "\n",
        "a = np.array([0, 1, 2, 3, 4, 5, 6, 7, 8, 9])\n",
        "elements_between_5_10 = a[(a >= 5) & (a <= 10)]\n",
        "print(\"Elementos entre 5 y 10:\", elements_between_5_10)\n"
      ],
      "metadata": {
        "colab": {
          "base_uri": "https://localhost:8080/"
        },
        "id": "IjipkjsSHAZN",
        "outputId": "dde4d679-a3cb-465b-b2c5-da8371de09dc"
      },
      "execution_count": null,
      "outputs": [
        {
          "output_type": "stream",
          "name": "stdout",
          "text": [
            "Elementos entre 5 y 10: [5 6 7 8 9]\n"
          ]
        }
      ]
    },
    {
      "cell_type": "code",
      "source": [
        "#  10. How to make a python function that handles scalars to work on numpy arrays?\n",
        "# Hint\n",
        "# Desired Output:\n",
        "# a = np.array([5, 7, 9, 8, 6, 4, 5])\n",
        "# b = np.array([6, 3, 4, 8, 9, 7, 1])\n",
        "# pair_max(a, b)\n",
        "# #> array([ 6.,  7.,  9.,  8.,  9.,  7.,  5.])\n",
        "\n",
        "def maxx(x, y):\n",
        "    \"\"\"Get the maximum of two items\"\"\"\n",
        "    if x >= y:\n",
        "        return x\n",
        "    else:\n",
        "        return y\n",
        "\n",
        "# Vectorizar la función maxx()\n",
        "vectorized_maxx = np.vectorize(maxx)\n",
        "\n",
        "# Arreglos de entrada\n",
        "a = np.array([5, 7, 9, 8, 6, 4, 5])\n",
        "b = np.array([6, 3, 4, 8, 9, 7, 1])\n",
        "\n",
        "# Aplicar la función vectorizada a los arreglos de entrada\n",
        "result = vectorized_maxx(a, b)\n",
        "\n",
        "# Imprimir el resultado\n",
        "print(result)\n"
      ],
      "metadata": {
        "colab": {
          "base_uri": "https://localhost:8080/"
        },
        "id": "Vke3BFRBHpfl",
        "outputId": "3002fb33-c557-41b4-b73c-ffe815a0ef31"
      },
      "execution_count": null,
      "outputs": [
        {
          "output_type": "stream",
          "name": "stdout",
          "text": [
            "[6 7 9 8 9 7 5]\n"
          ]
        }
      ]
    },
    {
      "cell_type": "code",
      "source": [
        "#  11. Swap columns 1 and 2 in the array arr.\n",
        "# Hint\n",
        "# Desired Output:\n",
        "# [[0 2 1]\n",
        "#  [3 5 4]\n",
        "#  [6 8 7]]\n",
        "\n",
        "arr = np.arange(9).reshape(3, 3)\n",
        "print(\"Original:\")\n",
        "print(arr)\n",
        "\n",
        "# Intercambiar las columnas 1 y 2\n",
        "arr[:, [1, 2]] = arr[:, [2, 1]]\n",
        "\n",
        "print(\"Intercambiadas:\")\n",
        "print(arr)\n"
      ],
      "metadata": {
        "colab": {
          "base_uri": "https://localhost:8080/"
        },
        "id": "oxgt1f_ELVPq",
        "outputId": "92099050-6cda-49ab-8cc9-05a38ffc62bc"
      },
      "execution_count": null,
      "outputs": [
        {
          "output_type": "stream",
          "name": "stdout",
          "text": [
            "Original:\n",
            "[[0 1 2]\n",
            " [3 4 5]\n",
            " [6 7 8]]\n",
            "Intercambiadas:\n",
            "[[0 2 1]\n",
            " [3 5 4]\n",
            " [6 8 7]]\n"
          ]
        }
      ]
    },
    {
      "cell_type": "code",
      "source": [
        "#  12. Create a 2D array of shape 5x3 to contain random decimal numbers between 5 and 10.\n",
        "# Hint\n",
        "# The desired Output should be like the following one:\n",
        "#  [[ 8.50061025  9.10531502  6.85867783]\n",
        "#   [ 9.76262069  9.87717411  7.13466701]\n",
        "#   [ 7.48966403  8.33409158  6.16808631]\n",
        "#   [ 7.75010551  9.94535696  5.27373226]\n",
        "#   [ 8.0850361   5.56165518  7.31244004]]\n",
        "\n",
        "random_array = np.random.uniform(5, 10, (5, 3))\n",
        "\n",
        "print(random_array)"
      ],
      "metadata": {
        "colab": {
          "base_uri": "https://localhost:8080/"
        },
        "id": "BxnsQhhQLldJ",
        "outputId": "7f930266-f597-41a8-819f-539f300e70f6"
      },
      "execution_count": null,
      "outputs": [
        {
          "output_type": "stream",
          "name": "stdout",
          "text": [
            "[[7.08170538 9.24036253 6.38449119]\n",
            " [7.64340255 7.56377938 8.23943061]\n",
            " [8.74362754 7.87510177 9.32004261]\n",
            " [6.96964892 8.68138739 8.41837315]\n",
            " [8.91183301 6.03266299 6.89220051]]\n"
          ]
        }
      ]
    }
  ]
}